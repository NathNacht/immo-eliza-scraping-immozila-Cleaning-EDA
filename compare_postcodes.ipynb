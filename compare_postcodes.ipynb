{
 "cells": [
  {
   "cell_type": "code",
   "execution_count": 109,
   "metadata": {},
   "outputs": [],
   "source": [
    "import pandas as pd"
   ]
  },
  {
   "cell_type": "code",
   "execution_count": 110,
   "metadata": {},
   "outputs": [],
   "source": [
    "#open a the file from bpost and lowercase all  \n",
    "bpost_codes = pd.read_csv(\"data/raw/zipcodes_alpha_nl_new.csv\", delimiter=\";\")\n",
    "bpost_codes[['Plaatsnaam', 'Hoofdgemeente', 'Provincie']] = bpost_codes[['Plaatsnaam', 'Hoofdgemeente', 'Provincie']].apply(lambda x: x.astype(str).str.lower())\n"
   ]
  },
  {
   "cell_type": "code",
   "execution_count": 117,
   "metadata": {},
   "outputs": [],
   "source": [
    "#open a the scraped files and lowercase all \n",
    "def open_and_lowercase(filename:str):\n",
    "    df = pd.read_csv(filename) \n",
    "    df[\"locality_name\"] = df[\"locality_name\"].str.lower()\n",
    "    return df\n",
    "\n",
    "apt_file = \"data/raw/raw_apartement_te_koop.csv\"\n",
    "house_file = \"data/raw/raw_huis_te_koop.csv\"\n",
    "postal_codes_immoweb_apt = open_and_lowercase(apt_file)\n",
    "postal_codes_immoweb_house = open_and_lowercase(house_file)\n",
    "\n"
   ]
  },
  {
   "cell_type": "code",
   "execution_count": 119,
   "metadata": {},
   "outputs": [],
   "source": [
    "# drop non belgian properties\n",
    "def drop_non_belgian(df):\n",
    "    df['is_belgian'] = df['postal_code'].astype(str).isin(bpost_codes['Postcode'].astype(str))\n",
    "\n",
    "    df.loc[df['is_belgian']==False]\n",
    "\n",
    "    df = df.drop(df[df['is_belgian'] == False].index)\n",
    "    return df\n",
    "\n",
    "postal_codes_immoweb_apt = drop_non_belgian(postal_codes_immoweb_apt)\n",
    "postal_codes_immoweb_house = drop_non_belgian(postal_codes_immoweb_house)\n"
   ]
  },
  {
   "cell_type": "code",
   "execution_count": null,
   "metadata": {},
   "outputs": [],
   "source": [
    "#translate all city names to dutch\n",
    "georef = pd.read_csv(\"data/raw/georef-belgium-postal-codes.csv\", delimiter=\";\")\n",
    "georef[['Sub-municipality name (French)','Sub-municipality name (Dutch)', 'Sub-municipality name (German)']] = georef[['Sub-municipality name (French)','Sub-municipality name (Dutch)', 'Sub-municipality name (German)']].apply(lambda x: x.str.lower())\n",
    "#if locality_name = Sub-municipality name (French) of Sub-municipality name (German), replace it with Sub-municipality name (Dutch) if it's not NaN\n",
    "georef_with_nl = georef[~georef['Sub-municipality name (Dutch)'].isna()]\n",
    "locality_name_was_french = (postal_codes_immoweb_house[\"locality_name\"].isin(georef_with_nl['Sub-municipality name (French)']))\n",
    "locality_name_was_german = (postal_codes_immoweb_house[\"locality_name\"].isin(georef_with_nl['Sub-municipality name (German)']))\n",
    "df_fr_de = postal_codes_immoweb_house[locality_name_was_french | locality_name_was_german]\n",
    "\n",
    "def get_dutch_locality_name(current_locality_name):\n",
    "    name_loc = georef_with_nl.loc[(georef_with_nl[\"Sub-municipality name (French)\"] == current_locality_name) | (georef_with_nl[\"Sub-municipality name (German)\"] == current_locality_name)]\n",
    "    if not name_loc.empty:\n",
    "        return(name_loc[\"Sub-municipality name (Dutch)\"].iloc[0])\n",
    "    else:\n",
    "        return current_locality_name\n",
    "    \n",
    "postal_codes_immoweb_house[\"locality_name\"] = postal_codes_immoweb_house[\"locality_name\"].apply(get_dutch_locality_name)\n",
    "\n",
    "\n",
    "postal_codes_immoweb_apt[\"locality_name\"] =  postal_codes_immoweb_apt[\"locality_name\"].apply(get_dutch_locality_name)\n"
   ]
  },
  {
   "cell_type": "code",
   "execution_count": 133,
   "metadata": {},
   "outputs": [],
   "source": [
    "#save to csv\n",
    "\n",
    "def save_df_to_csv(df, filepath):\n",
    "    df.to_csv(filepath)\n",
    "\n",
    "file_name_apt = \"data/raw/postal_code_dutch_location_apartement_te_koop.csv\"\n",
    "file_name_house = \"data/raw/postal_code_dutch_location_huis_te_koop.csv\"\n",
    "\n",
    "save_df_to_csv(postal_codes_immoweb_house, file_name_house)\n",
    "save_df_to_csv(postal_codes_immoweb_apt, file_name_apt)"
   ]
  }
 ],
 "metadata": {
  "kernelspec": {
   "display_name": ".venv",
   "language": "python",
   "name": "python3"
  },
  "language_info": {
   "codemirror_mode": {
    "name": "ipython",
    "version": 3
   },
   "file_extension": ".py",
   "mimetype": "text/x-python",
   "name": "python",
   "nbconvert_exporter": "python",
   "pygments_lexer": "ipython3",
   "version": "3.10.11"
  }
 },
 "nbformat": 4,
 "nbformat_minor": 2
}
